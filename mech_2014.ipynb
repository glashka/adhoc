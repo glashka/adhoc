{
 "cells": [
  {
   "cell_type": "code",
   "execution_count": 129,
   "metadata": {
    "collapsed": true
   },
   "outputs": [],
   "source": [
    "import pandas as pd\n",
    "from matplotlib import pyplot\n",
    "%matplotlib inline\n"
   ]
  },
  {
   "cell_type": "code",
   "execution_count": 130,
   "metadata": {
    "collapsed": false
   },
   "outputs": [],
   "source": [
    "enrollees = pd.read_csv('mm_2014.csv', sep='\\t')\n",
    "enrollees['gender'] = pd.Series(1, index=enrollees.index)\n",
    "enrollees.loc[enrollees.name.str.contains('ВНА'), ['gender']] = 0\n"
   ]
  },
  {
   "cell_type": "code",
   "execution_count": 138,
   "metadata": {
    "collapsed": false
   },
   "outputs": [
    {
     "data": {
      "image/png": "[encoded data removed]",
      "text/plain": [
       "<matplotlib.figure.Figure at 0x10a874438>"
      ]
     },
     "metadata": {},
     "output_type": "display_data"
    }
   ],
   "source": [
    "boys = enrollees[enrollees.gender == 1]['points']\n",
    "girls = enrollees[enrollees.gender == 0]['points']\n",
    "\n",
    "pyplot.figure(figsize=(10,6))\n",
    "pyplot.hist(boys.as_matrix(), bins=np.arange(160, 420, 10), alpha=0.5, label='Boys')\n",
    "pyplot.hist(girls, bins=np.arange(160, 420, 10), alpha=0.5, label='Girls', color='red')\n",
    "pyplot.legend(loc='upper right')\n",
    "pyplot.show()\n"
   ]
  },
  {
   "cell_type": "code",
   "execution_count": 132,
   "metadata": {
    "collapsed": false
   },
   "outputs": [],
   "source": [
    "import numpy as np\n",
    "import scipy as sp\n",
    "import scipy.stats\n",
    "\n",
    "def mean_confidence_interval(data, confidence=0.95):\n",
    "    a = 1.0*np.array(data)\n",
    "    n = len(a)\n",
    "    m, se = np.mean(a), scipy.stats.sem(a)\n",
    "    h = se * sp.stats.t._ppf((1+confidence)/2., n-1)\n",
    "    return m, m-h, m+h\n"
   ]
  },
  {
   "cell_type": "code",
   "execution_count": 133,
   "metadata": {
    "collapsed": false
   },
   "outputs": [
    {
     "name": "stdout",
     "output_type": "stream",
     "text": [
      "Boys 754\n",
      "Girls 300\n"
     ]
    }
   ],
   "source": [
    "print('Boys', enrollees[enrollees.gender == 1].name.count())\n",
    "print('Girls', enrollees[enrollees.gender == 0].name.count())\n"
   ]
  },
  {
   "cell_type": "code",
   "execution_count": 134,
   "metadata": {
    "collapsed": false
   },
   "outputs": [
    {
     "name": "stdout",
     "output_type": "stream",
     "text": [
      "Boys acceptance rate (0.57161803713527848, 0.53621685405582697, 0.60701922021472998)\n",
      "Girls acceptance rate (0.50666666666666671, 0.44976756940466667, 0.56356576392866675)\n"
     ]
    }
   ],
   "source": [
    "print('Boys acceptance rate', mean_confidence_interval(enrollees[enrollees.gender == 1].success))\n",
    "print('Girls acceptance rate', mean_confidence_interval(enrollees[enrollees.gender == 0].success))\n"
   ]
  },
  {
   "cell_type": "code",
   "execution_count": 135,
   "metadata": {
    "collapsed": false
   },
   "outputs": [
    {
     "name": "stdout",
     "output_type": "stream",
     "text": [
      "Boys points 315.0 (315.60477453580904, 312.92500020697844, 318.28454886463965)\n",
      "Girls points 308.5 (310.38999999999999, 306.00753087168346, 314.77246912831652)\n"
     ]
    }
   ],
   "source": [
    "print('Boys points', enrollees[enrollees.gender == 1].points.median(), mean_confidence_interval(enrollees[enrollees.gender == 1].points))\n",
    "print('Girls points', enrollees[enrollees.gender == 0].points.median(), mean_confidence_interval(enrollees[enrollees.gender == 0].points))\n"
   ]
  },
  {
   "cell_type": "code",
   "execution_count": null,
   "metadata": {
    "collapsed": true
   },
   "outputs": [],
   "source": []
  }
 ],
 "metadata": {
  "kernelspec": {
   "display_name": "Python 3",
   "language": "python",
   "name": "python3"
  },
  "language_info": {
   "codemirror_mode": {
    "name": "ipython",
    "version": 3
   },
   "file_extension": ".py",
   "mimetype": "text/x-python",
   "name": "python",
   "nbconvert_exporter": "python",
   "pygments_lexer": "ipython3",
   "version": "3.4.3"
  }
 },
 "nbformat": 4,
 "nbformat_minor": 0
}
