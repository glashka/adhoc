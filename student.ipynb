{
 "metadata": {
  "name": "",
  "signature": "sha256:ee889f4fd1ef0a599b1e17a3beb2c0dab40d24abf85de2bc17f517614ffb8225"
 },
 "nbformat": 3,
 "nbformat_minor": 0,
 "worksheets": [
  {
   "cells": [
    {
     "cell_type": "code",
     "collapsed": false,
     "input": [
      "import math\n",
      "from scipy.stats import t\n",
      "\n",
      "m1 = 83391\n",
      "m2 = 111479\n",
      "n = m1 + m2\n",
      "\n",
      "p1 = 1.0 * m1 / n\n",
      "p2 = 0.5\n",
      "\n",
      "s1 = p1 * (1 - p1) * n / (n - 1)\n",
      "s2 = p2 * (1 - p2) * n / (n - 1)\n",
      "\n",
      "tscore = abs(p1 - p2) / math.sqrt(s1 / n + s2 / n) \n",
      "\n",
      "print tscore\n"
     ],
     "language": "python",
     "metadata": {},
     "outputs": [
      {
       "output_type": "stream",
       "stream": "stdout",
       "text": [
        "45.2271978961\n"
       ]
      }
     ],
     "prompt_number": 13
    },
    {
     "cell_type": "code",
     "collapsed": false,
     "input": [],
     "language": "python",
     "metadata": {},
     "outputs": []
    }
   ],
   "metadata": {}
  }
 ]
}