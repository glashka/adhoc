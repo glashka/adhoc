{
 "metadata": {
  "name": "",
  "signature": "sha256:e5150ff06de2cdd1072febf4aec1dbe580e32d549d4d2182ac0a7eba306a1a85"
 },
 "nbformat": 3,
 "nbformat_minor": 0,
 "worksheets": [
  {
   "cells": [
    {
     "cell_type": "code",
     "collapsed": false,
     "input": [
      "\"\"\" Problem 22 \n",
      "\"\"\"\n",
      "\n",
      "import urllib2\n",
      "\n",
      "alphabet_string = '0abcdefghijklmnopqrstuvwxyz'\n",
      "alphabet = {}\n",
      "for letter in alphabet_string:\n",
      "    alphabet[letter] = alphabet_string.index(letter)\n",
      "\n",
      "def get_string_weight(line):\n",
      "    result = 0\n",
      "    for letter in line.lower():\n",
      "        result += alphabet[letter]\n",
      "    return result\n",
      "\n",
      "\n",
      "data = urllib2.urlopen('https://projecteuler.net/project/resources/p022_names.txt')\n",
      "data = data.read() \n",
      "names = [line.strip('\"') for line in data.split(\",\")]\n",
      "names.sort()\n",
      "\n",
      "result = 0\n",
      "\n",
      "for i in xrange(len(names)):\n",
      "    result += (i + 1) * get_string_weight(names[i])\n",
      "\n",
      "print result\n"
     ],
     "language": "python",
     "metadata": {},
     "outputs": [
      {
       "output_type": "stream",
       "stream": "stdout",
       "text": [
        "871198282\n"
       ]
      }
     ],
     "prompt_number": 20
    },
    {
     "cell_type": "code",
     "collapsed": false,
     "input": [
      "\"\"\" Problem 23\n",
      "\"\"\"\n",
      "\n",
      "UPPER_LIMIT = 28123\n",
      "\n",
      "def add_factor(number, factors):\n",
      "    if number < 2:\n",
      "        return\n",
      "    for i in xrange(2, number+1):\n",
      "        if number % i == 0:\n",
      "            factors.append(i)\n",
      "            add_factor(number / i, factors)\n",
      "            break\n",
      "\n",
      "def get_proper_divisors(number):\n",
      "    divisors = set()\n",
      "    prime_factors = []\n",
      "    add_factor(number, prime_factors)\n",
      "    primes_qty = len(prime_factors)\n",
      "    for i in xrange(2 ** primes_qty - 1):\n",
      "        binary = str(bin(i)[2:].zfill(primes_qty))\n",
      "        divisor = 1\n",
      "        for j in xrange(primes_qty):\n",
      "            divisor *= prime_factors[j] ** int(binary[j])\n",
      "        divisors.add(divisor)\n",
      "    return divisors\n",
      "\n",
      "def get_sum_proper_divisors(number):\n",
      "    return sum(get_proper_divisors(number))\n",
      "\n",
      "def is_abundant(number):\n",
      "    if get_sum_proper_divisors(number) > number:\n",
      "        return True\n",
      "    else:\n",
      "        return False\n",
      "\n",
      "abundant = set()\n",
      "for i in xrange(1, UPPER_LIMIT):\n",
      "    if is_abundant(i):\n",
      "        abundant.add(i)\n",
      "\n",
      "nonsum = set()\n",
      "for i in xrange(1, UPPER_LIMIT):\n",
      "    nonsum.add(i)\n",
      "        \n",
      "for i in xrange(1, UPPER_LIMIT):\n",
      "    for j in xrange(1, i / 2 + 1):\n",
      "        if j in abundant and (i - j) in abundant:\n",
      "            nonsum.remove(i)\n",
      "            break\n",
      "\n",
      "print sum(nonsum)\n"
     ],
     "language": "python",
     "metadata": {},
     "outputs": [
      {
       "output_type": "stream",
       "stream": "stdout",
       "text": [
        "4179871\n"
       ]
      }
     ],
     "prompt_number": 21
    },
    {
     "cell_type": "code",
     "collapsed": false,
     "input": [
      "\"\"\" Problem 24\n",
      "\"\"\"\n",
      "\n",
      "from math import factorial as f\n",
      "\n",
      "print 1000000 - 2 * f(9) - 6 * f(8) - 6 * f(7) - 2 * f(6) - 5 * f(5) - 1 * f(4) - 2 * f(3) - 2 * f(2)\n"
     ],
     "language": "python",
     "metadata": {},
     "outputs": [
      {
       "output_type": "stream",
       "stream": "stdout",
       "text": [
        "0\n"
       ]
      }
     ],
     "prompt_number": 36
    },
    {
     "cell_type": "code",
     "collapsed": false,
     "input": [
      "\"\"\" Problem 25\n",
      "\"\"\"\n",
      "f1 = 1\n",
      "f2 = 1\n",
      "f3 = f1 + f2\n",
      "i = 3\n",
      "\n",
      "while len(str(f3)) < 1000:\n",
      "    f1 = f2\n",
      "    f2 = f3\n",
      "    f3 = f1 + f2\n",
      "    i += 1\n",
      "    \n",
      "print i\n"
     ],
     "language": "python",
     "metadata": {},
     "outputs": [
      {
       "output_type": "stream",
       "stream": "stdout",
       "text": [
        "4782\n"
       ]
      }
     ],
     "prompt_number": 38
    },
    {
     "cell_type": "code",
     "collapsed": false,
     "input": [
      "\"\"\" Problem 26\n",
      "\"\"\"\n",
      "\n",
      "def get_quadratic(a, b, n):\n",
      "    return n ** 2 + a * n + b\n",
      "\n",
      "all_primes = set()\n",
      "\n",
      "def is_prime(number):\n",
      "    if number in all_primes:\n",
      "        return True\n",
      "    elif number < 2:\n",
      "        return False\n",
      "    else:\n",
      "        for i in xrange(2, number):\n",
      "            if number % i == 0:\n",
      "                return False\n",
      "        all_primes.add(number)\n",
      "        return True\n",
      "\n",
      "def count_primes(a, b):\n",
      "    quadratic = b\n",
      "    counter = 0\n",
      "    while is_prime(quadratic) and counter < 100:\n",
      "        counter += 1\n",
      "        quadratic = get_quadratic(a, b, counter)\n",
      "    return counter\n",
      "\n",
      "conseq = 0\n",
      "product_ab = 0\n",
      "\n",
      "for a in xrange(-999, 1000):\n",
      "    for b in xrange(-999, 1000):\n",
      "        if count_primes(a, b) > conseq:\n",
      "            conseq = count_primes(a, b)\n",
      "            product_ab = a * b\n",
      "\n",
      "print product_ab\n"
     ],
     "language": "python",
     "metadata": {},
     "outputs": [
      {
       "output_type": "stream",
       "stream": "stdout",
       "text": [
        "-59231\n"
       ]
      }
     ],
     "prompt_number": 18
    },
    {
     "cell_type": "code",
     "collapsed": false,
     "input": [
      "\"\"\" Problem 28\n",
      "\"\"\"\n",
      "\n",
      "SIZE = 1001\n",
      "CENTER = SIZE / 2\n",
      "\n",
      "def print_square(square):\n",
      "    for row in square:\n",
      "        line = ''\n",
      "        for item in row:\n",
      "            line += str(item)\n",
      "            line += '\\t'\n",
      "        print line\n",
      "\n",
      "# initializing a square\n",
      "square = []\n",
      "for i in xrange(SIZE):\n",
      "    row = []\n",
      "    for j in xrange(SIZE):\n",
      "        row.append(0)\n",
      "    square.append(row)\n",
      "\n",
      "# setting the square by spiral\n",
      "square[CENTER][CENTER] = 1\n",
      "index_x = CENTER\n",
      "index_y = CENTER\n",
      "counter = 2\n",
      "turn = 1\n",
      "switcher = False\n",
      "\n",
      "#1 - 1 - 2 - 2 - 3 - 3 - 4 - 4 - 5 - ...\n",
      "\n",
      "while counter < SIZE ** 2:\n",
      "    if turn % 2 == 1:\n",
      "        if switcher == False:\n",
      "            for i in xrange(1, turn):\n",
      "                index_x += 1\n",
      "                square[index_x][index_y] = counter\n",
      "                counter += 1\n",
      "            switcher = True\n",
      "        else:\n",
      "            for i in xrange(1, turn):\n",
      "                index_y -= 1\n",
      "                square[index_x][index_y] = counter\n",
      "                counter += 1\n",
      "            switcher = False\n",
      "            turn += 1\n",
      "    else:\n",
      "        if switcher == False:\n",
      "            for i in xrange(1, turn):\n",
      "                if counter <= SIZE ** 2:\n",
      "                    index_x -= 1\n",
      "                    square[index_x][index_y] = counter\n",
      "                    counter += 1\n",
      "            switcher = True\n",
      "        else:\n",
      "            for i in xrange(1, turn):\n",
      "                index_y += 1\n",
      "                square[index_x][index_y] = counter\n",
      "                counter += 1\n",
      "            switcher = False\n",
      "            turn += 1           \n",
      "\n",
      "def sum_diagonales(square):\n",
      "    result = 0\n",
      "    for i in xrange(len(square)):\n",
      "        result += square[i][i]\n",
      "        result += square[i][len(square) - 1 - i]\n",
      "    return result - 1\n",
      "\n",
      "print sum_diagonales(square)\n"
     ],
     "language": "python",
     "metadata": {},
     "outputs": [
      {
       "output_type": "stream",
       "stream": "stdout",
       "text": [
        "669171001\n"
       ]
      }
     ],
     "prompt_number": 39
    },
    {
     "cell_type": "code",
     "collapsed": false,
     "input": [
      "\"\"\" Problem 29 \n",
      "\"\"\"\n",
      "\n",
      "numbers = set()\n",
      "\n",
      "for a in xrange(2, 101):\n",
      "    for b in xrange(2, 101):\n",
      "        numbers.add(a ** b)\n",
      "\n",
      "print len(numbers)\n"
     ],
     "language": "python",
     "metadata": {},
     "outputs": [
      {
       "output_type": "stream",
       "stream": "stdout",
       "text": [
        "9183\n"
       ]
      }
     ],
     "prompt_number": 40
    },
    {
     "cell_type": "code",
     "collapsed": false,
     "input": [
      "\"\"\" Problem 30\n",
      "\"\"\"\n",
      "\n",
      "from itertools import product\n",
      "\n",
      "sum5numbers = set()\n",
      "\n",
      "for digits in product('0123456789', repeat=6):\n",
      "    number = 0\n",
      "    sum_powers = 0\n",
      "    for i in xrange(6):\n",
      "        number += int(digits[i]) * 10 ** i\n",
      "        sum_powers += int(digits[i]) ** 5\n",
      "    if number == sum_powers:\n",
      "        sum5numbers.add(number)\n",
      "\n",
      "# excluding 1 as it is not true sum of powers\n",
      "print sum(sum5numbers) - 1\n"
     ],
     "language": "python",
     "metadata": {},
     "outputs": [
      {
       "output_type": "stream",
       "stream": "stdout",
       "text": [
        "443839\n"
       ]
      }
     ],
     "prompt_number": 61
    },
    {
     "cell_type": "code",
     "collapsed": false,
     "input": [
      "\"\"\" Problem 31\n",
      "\"\"\"\n",
      "\n",
      "proper_ways = set()\n",
      "\n",
      "print proper_ways\n"
     ],
     "language": "python",
     "metadata": {},
     "outputs": [
      {
       "output_type": "stream",
       "stream": "stdout",
       "text": [
        "set([])\n"
       ]
      }
     ],
     "prompt_number": 73
    },
    {
     "cell_type": "code",
     "collapsed": false,
     "input": [
      "\"\"\" Problem 33\n",
      "\"\"\"\n",
      "\n",
      "import math\n",
      "\n",
      "reductable_fractions = set()\n",
      "\n",
      "for i in xrange(10, 99):\n",
      "    for j in xrange(i + 1, 99):\n",
      "        for k in str(i):\n",
      "            if k in str(j):\n",
      "                reductable_fractions.add((i, j))\n",
      "        \n",
      "def fake_reduct_1(fraction):\n",
      "    for i in xrange(2):\n",
      "        if fraction[1] % 10 == int(str(fraction[0])[i]):\n",
      "            return (int(str(fraction[0])[1 - i]), int(str(fraction[1])[0]))\n",
      "\n",
      "def fake_reduct_2(fraction):\n",
      "    for i in xrange(2):\n",
      "        if math.floor(fraction[1] / 10) == int(str(fraction[0])[i]):\n",
      "            return (int(str(fraction[0])[1 - i]), int(str(fraction[1])[1]))\n",
      "\n",
      "for fraction in reductable_fractions:\n",
      "    if float(fraction[0]) / fraction[1] == fake_reduct_1(fraction) or float(fraction[0]) / fraction[1] == fake_reduct_2(fraction):\n",
      "        print fraction\n"
     ],
     "language": "python",
     "metadata": {},
     "outputs": [],
     "prompt_number": 80
    },
    {
     "cell_type": "code",
     "collapsed": false,
     "input": [],
     "language": "python",
     "metadata": {},
     "outputs": []
    }
   ],
   "metadata": {}
  }
 ]
}