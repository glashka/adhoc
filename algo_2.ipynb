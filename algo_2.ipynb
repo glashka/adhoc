{
 "cells": [
  {
   "cell_type": "code",
   "execution_count": 40,
   "metadata": {
    "collapsed": true
   },
   "outputs": [],
   "source": [
    "import urllib.request as urllib2\n",
    "\n",
    "data = urllib2.urlopen('http://spark-public.s3.amazonaws.com/algo1/programming_prob/QuickSort.txt')\n",
    "data = data.read()\n",
    "\n",
    "numbers = [int(line.decode()) for line in data.split()]\n"
   ]
  },
  {
   "cell_type": "code",
   "execution_count": 31,
   "metadata": {
    "collapsed": false
   },
   "outputs": [
    {
     "name": "stdout",
     "output_type": "stream",
     "text": [
      "[3, 2, 8, 5, 1, 4, 7, 6, 12, 10, 11, 9]\n",
      "[1, 2, 3, 4, 5, 6, 7, 8, 9, 10, 11, 12]\n"
     ]
    }
   ],
   "source": [
    "TEST_ARRAY = [3, 2, 8, 5, 1, 4, 7, 6, 12, 10, 11, 9]\n",
    "\n",
    "def swap(a, i, j):\n",
    "    #print(\"swap:\",i,j)\n",
    "    tmp = a[i]\n",
    "    a[i] = a[j]\n",
    "    a[j] = tmp\n",
    "    return\n",
    "\n",
    "def set_pivot(a, start, end, pivot):\n",
    "    if pivot == 'last':\n",
    "        swap(a, start, end)\n",
    "    elif pivot == 'median':\n",
    "        median = a[(start + end) // 2]\n",
    "        if median > a[start] and median < a[end] or median < a[start] and median > a[end]:\n",
    "            swap(a, start, (start + end) // 2)\n",
    "        elif a[end] > a[start] and a[end] < median or a[end] < a[start] and a[end] > median:\n",
    "            swap(a, start, end)\n",
    "    return a[start]\n",
    "    \n",
    "def split(a, start, end, pivot):\n",
    "    #print(a[start:end + 1], pivot)\n",
    "    if end - start < 1:\n",
    "        return\n",
    "    p = set_pivot(a, start, end, pivot)\n",
    "    i = start + 1\n",
    "    for j in range(start + 1, end + 1):\n",
    "        #print(\"i:\",i,\"j:\",j)\n",
    "        if a[j] < p:\n",
    "            swap(a, i, j)\n",
    "            i += 1\n",
    "    swap(a, start, i - 1)\n",
    "    #print(a, a[start:end + 1], i)\n",
    "    split(a, start, i - 2, pivot)\n",
    "    split(a, i, end, pivot)\n",
    "    return\n",
    "\n",
    "print(TEST_ARRAY)\n",
    "split(TEST_ARRAY, 0, len(TEST_ARRAY) - 1, 'first')\n",
    "print(TEST_ARRAY)\n"
   ]
  },
  {
   "cell_type": "code",
   "execution_count": 39,
   "metadata": {
    "collapsed": false,
    "scrolled": false
   },
   "outputs": [
    {
     "name": "stdout",
     "output_type": "stream",
     "text": [
      "10000\n",
      "20000\n",
      "30000\n",
      "40000\n",
      "50000\n",
      "60000\n",
      "70000\n",
      "80000\n",
      "90000\n",
      "100000\n"
     ]
    }
   ],
   "source": [
    "import random\n",
    "\n",
    "def generate_random_array():\n",
    "    a = []\n",
    "    for i in range(random.randint(7, 16)):\n",
    "        a.append(random.randint(1, 100))\n",
    "    return a\n",
    "\n",
    "def is_sorted(a):\n",
    "    return a == sorted(a)\n",
    "\n",
    "counter = 0\n",
    "\n",
    "while True:\n",
    "    a = generate_random_array()\n",
    "    b = a[:]\n",
    "    split(b, 0, len(b) - 1, 'median')\n",
    "    if not is_sorted(b):\n",
    "        print(a, b)\n",
    "        break\n",
    "    counter += 1\n",
    "    if counter % 10 ** 4 == 0:\n",
    "        print(counter)\n",
    "    if counter > 10 ** 5:\n",
    "        break\n"
   ]
  },
  {
   "cell_type": "code",
   "execution_count": 66,
   "metadata": {
    "collapsed": false
   },
   "outputs": [],
   "source": [
    "c = [0]\n",
    "\n",
    "def count_comparisons(a, start, end, pivot, c):\n",
    "    if end - start < 1:\n",
    "        return\n",
    "    c[0] += end - start\n",
    "    p = set_pivot(a, start, end, pivot)\n",
    "    i = start + 1\n",
    "    for j in range(start + 1, end + 1):\n",
    "        if a[j] < p:\n",
    "            swap(a, i, j)\n",
    "            i += 1\n",
    "    swap(a, start, i - 1)\n",
    "    count_comparisons(a, start, i - 2, pivot, c)\n",
    "    count_comparisons(a, i, end, pivot, c)\n",
    "    return\n"
   ]
  },
  {
   "cell_type": "code",
   "execution_count": 72,
   "metadata": {
    "collapsed": false
   },
   "outputs": [
    {
     "name": "stdout",
     "output_type": "stream",
     "text": [
      "138382\n"
     ]
    }
   ],
   "source": [
    "import urllib.request as urllib2\n",
    "\n",
    "data = urllib2.urlopen('http://spark-public.s3.amazonaws.com/algo1/programming_prob/QuickSort.txt')\n",
    "data = data.read()\n",
    "\n",
    "numbers = [int(line.decode()) for line in data.split()]\n",
    "\n",
    "c = [0]\n",
    "count_comparisons(numbers, 0, len(numbers) - 1, 'median', c)\n",
    "print(c[0])\n"
   ]
  },
  {
   "cell_type": "code",
   "execution_count": null,
   "metadata": {
    "collapsed": true
   },
   "outputs": [],
   "source": []
  }
 ],
 "metadata": {
  "kernelspec": {
   "display_name": "Python 3",
   "language": "python",
   "name": "python3"
  },
  "language_info": {
   "codemirror_mode": {
    "name": "ipython",
    "version": 3
   },
   "file_extension": ".py",
   "mimetype": "text/x-python",
   "name": "python",
   "nbconvert_exporter": "python",
   "pygments_lexer": "ipython3",
   "version": "3.4.3"
  }
 },
 "nbformat": 4,
 "nbformat_minor": 0
}
